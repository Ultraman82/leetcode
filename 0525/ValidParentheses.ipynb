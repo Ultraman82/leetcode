{
 "cells": [
  {
   "cell_type": "code",
   "execution_count": 11,
   "metadata": {},
   "outputs": [
    {
     "name": "stdout",
     "output_type": "stream",
     "text": [
      "True\n"
     ]
    }
   ],
   "source": [
    "class Solution:\n",
    "    def isValid(self, s: str) -> bool:\n",
    "        stack = []\n",
    "        start = \"({[\"        \n",
    "        for char in s:            \n",
    "            if char in start:\n",
    "                stack.append(char)\n",
    "            elif char == ']':\n",
    "                if len(stack) > 0 and stack[-1] == '[':\n",
    "                    stack.pop()\n",
    "                else:\n",
    "                    return False\n",
    "            elif char == ')':\n",
    "                if len(stack) > 0 and stack[-1] == '(':\n",
    "                    stack.pop()\n",
    "                else:\n",
    "                    return False\n",
    "            elif char == '}':\n",
    "                if len(stack) > 0 and stack[-1] == '{':\n",
    "                    stack.pop()\n",
    "                else:\n",
    "                    return False\n",
    "        return len(stack) == 0\n",
    "\n",
    "s = \"()[]{}\"\n",
    "ans = Solution()\n",
    "print(ans.isValid(s))"
   ]
  },
  {
   "cell_type": "code",
   "execution_count": 12,
   "metadata": {},
   "outputs": [
    {
     "name": "stdout",
     "output_type": "stream",
     "text": [
      "True\n"
     ]
    }
   ],
   "source": [
    "class Solution:\n",
    "    # @return a boolean\n",
    "    def isValid(self, s):\n",
    "        stack = []\n",
    "        dict = {\"]\":\"[\", \"}\":\"{\", \")\":\"(\"}\n",
    "        for char in s:\n",
    "            if char in dict.values():\n",
    "                stack.append(char)\n",
    "            elif char in dict.keys():\n",
    "                if stack == [] or dict[char] != stack.pop():\n",
    "                    return False\n",
    "            else:\n",
    "                return False\n",
    "        return stack == []\n",
    "        \n",
    "s = \"()[]{}\"\n",
    "ans = Solution()\n",
    "print(ans.isValid(s))"
   ]
  },
  {
   "cell_type": "code",
   "execution_count": null,
   "metadata": {},
   "outputs": [],
   "source": []
  }
 ],
 "metadata": {
  "interpreter": {
   "hash": "2690c4ade938f830d2b677a28d44942311eb5bf365c90b058b9292674ef26d09"
  },
  "kernelspec": {
   "display_name": "Python 3.8.13 ('base')",
   "language": "python",
   "name": "python3"
  },
  "language_info": {
   "codemirror_mode": {
    "name": "ipython",
    "version": 3
   },
   "file_extension": ".py",
   "mimetype": "text/x-python",
   "name": "python",
   "nbconvert_exporter": "python",
   "pygments_lexer": "ipython3",
   "version": "3.8.13"
  },
  "orig_nbformat": 4
 },
 "nbformat": 4,
 "nbformat_minor": 2
}
