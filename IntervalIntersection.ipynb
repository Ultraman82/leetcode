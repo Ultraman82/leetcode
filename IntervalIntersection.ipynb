{
 "cells": [
  {
   "cell_type": "code",
   "execution_count": 8,
   "metadata": {},
   "outputs": [
    {
     "ename": "TypeError",
     "evalue": "'int' object is not subscriptable",
     "output_type": "error",
     "traceback": [
      "\u001b[0;31m---------------------------------------------------------------------------\u001b[0m",
      "\u001b[0;31mTypeError\u001b[0m                                 Traceback (most recent call last)",
      "\u001b[1;32m/home/edgar/leetcode/IntervalIntersection.ipynb Cell 1'\u001b[0m in \u001b[0;36m<cell line: 22>\u001b[0;34m()\u001b[0m\n\u001b[1;32m     <a href='vscode-notebook-cell://wsl%2Bubuntu-20.04/home/edgar/leetcode/IntervalIntersection.ipynb#ch0000000vscode-remote?line=18'>19</a>\u001b[0m secondList \u001b[39m=\u001b[39m [[\u001b[39m1\u001b[39m,\u001b[39m5\u001b[39m],[\u001b[39m8\u001b[39m,\u001b[39m12\u001b[39m],[\u001b[39m15\u001b[39m,\u001b[39m24\u001b[39m],[\u001b[39m25\u001b[39m,\u001b[39m26\u001b[39m]]\n\u001b[1;32m     <a href='vscode-notebook-cell://wsl%2Bubuntu-20.04/home/edgar/leetcode/IntervalIntersection.ipynb#ch0000000vscode-remote?line=20'>21</a>\u001b[0m answer \u001b[39m=\u001b[39m Solution()\n\u001b[0;32m---> <a href='vscode-notebook-cell://wsl%2Bubuntu-20.04/home/edgar/leetcode/IntervalIntersection.ipynb#ch0000000vscode-remote?line=21'>22</a>\u001b[0m \u001b[39mprint\u001b[39m(answer\u001b[39m.\u001b[39;49mintervalIntersection(firstList, secondList))\n",
      "\u001b[1;32m/home/edgar/leetcode/IntervalIntersection.ipynb Cell 1'\u001b[0m in \u001b[0;36mSolution.intervalIntersection\u001b[0;34m(self, firstList, secondList)\u001b[0m\n\u001b[1;32m      <a href='vscode-notebook-cell://wsl%2Bubuntu-20.04/home/edgar/leetcode/IntervalIntersection.ipynb#ch0000000vscode-remote?line=6'>7</a>\u001b[0m \u001b[39mprint\u001b[39m\n\u001b[1;32m      <a href='vscode-notebook-cell://wsl%2Bubuntu-20.04/home/edgar/leetcode/IntervalIntersection.ipynb#ch0000000vscode-remote?line=7'>8</a>\u001b[0m \u001b[39mfor\u001b[39;00m b \u001b[39min\u001b[39;00m secondList:   \n\u001b[0;32m----> <a href='vscode-notebook-cell://wsl%2Bubuntu-20.04/home/edgar/leetcode/IntervalIntersection.ipynb#ch0000000vscode-remote?line=8'>9</a>\u001b[0m     \u001b[39mwhile\u001b[39;00m a[\u001b[39m1\u001b[39;49m] \u001b[39m>\u001b[39m b[\u001b[39m0\u001b[39m]:\n\u001b[1;32m     <a href='vscode-notebook-cell://wsl%2Bubuntu-20.04/home/edgar/leetcode/IntervalIntersection.ipynb#ch0000000vscode-remote?line=9'>10</a>\u001b[0m         a_index \u001b[39m+\u001b[39m\u001b[39m=\u001b[39m \u001b[39m1\u001b[39m\n\u001b[1;32m     <a href='vscode-notebook-cell://wsl%2Bubuntu-20.04/home/edgar/leetcode/IntervalIntersection.ipynb#ch0000000vscode-remote?line=10'>11</a>\u001b[0m         \u001b[39mif\u001b[39;00m a_index \u001b[39min\u001b[39;00m \u001b[39mrange\u001b[39m(\u001b[39mlen\u001b[39m(firstList)\u001b[39m-\u001b[39m\u001b[39m1\u001b[39m):\n",
      "\u001b[0;31mTypeError\u001b[0m: 'int' object is not subscriptable"
     ]
    }
   ],
   "source": [
    "from typing import List\n",
    "class Solution:\n",
    "    def intervalIntersection(self, firstList: List[List[int]], secondList: List[List[int]]) -> List[List[int]]:\n",
    "        ans = []\n",
    "        a_index = 0        \n",
    "        a = firstList[a_index] \n",
    "        print\n",
    "        for b in secondList:   \n",
    "            while a_index in range(len(firstList)-1):                \n",
    "                if a[1] > b[0]:\n",
    "                    ans.append([b[0], a[1]])\n",
    "                    a = a[a_index]\n",
    "                else :\n",
    "                    a_index += 1\n",
    "            \n",
    "            # while a[1] > b[0]:\n",
    "            #     a_index += 1\n",
    "            #     if a_index in range(len(firstList)-1):\n",
    "            #         ans.append([b[0], a[1]])\n",
    "            #         a = a[a_index]\n",
    "                \n",
    "            \n",
    "        return ans\n",
    "\n",
    "firstList = [[0,2],[5,10],[13,23],[24,25]]\n",
    "secondList = [[1,5],[8,12],[15,24],[25,26]]\n",
    "\n",
    "answer = Solution()\n",
    "print(answer.intervalIntersection(firstList, secondList))"
   ]
  },
  {
   "cell_type": "code",
   "execution_count": null,
   "metadata": {},
   "outputs": [],
   "source": []
  }
 ],
 "metadata": {
  "interpreter": {
   "hash": "2690c4ade938f830d2b677a28d44942311eb5bf365c90b058b9292674ef26d09"
  },
  "kernelspec": {
   "display_name": "Python 3.8.13 ('base')",
   "language": "python",
   "name": "python3"
  },
  "language_info": {
   "codemirror_mode": {
    "name": "ipython",
    "version": 3
   },
   "file_extension": ".py",
   "mimetype": "text/x-python",
   "name": "python",
   "nbconvert_exporter": "python",
   "pygments_lexer": "ipython3",
   "version": "3.8.13"
  },
  "orig_nbformat": 4
 },
 "nbformat": 4,
 "nbformat_minor": 2
}
