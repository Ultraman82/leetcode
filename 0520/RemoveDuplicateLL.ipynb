{
 "cells": [
  {
   "cell_type": "code",
   "execution_count": 12,
   "metadata": {},
   "outputs": [
    {
     "name": "stdout",
     "output_type": "stream",
     "text": [
      "0\n"
     ]
    }
   ],
   "source": [
    "# Definition for singly-linked list.\n",
    "from typing import Optional\n",
    "class ListNode:\n",
    "    def __init__(self, val=0, next=None):\n",
    "        self.val = val\n",
    "        self.next = next\n",
    "         \n",
    "class LinkedList:      \n",
    "    # Function to initialize the Linked\n",
    "    # List object\n",
    "    def __init__(self):\n",
    "        self.head = None\n",
    "class Solution:\n",
    "    def deleteDuplicates1(self, head: ListNode) -> ListNode:\n",
    "        # sentinel\n",
    "        sentinel = ListNode(0, head)\n",
    "\n",
    "        # predecessor = the last node \n",
    "        # before the sublist of duplicates\n",
    "        pred = sentinel\n",
    "        \n",
    "        while head:\n",
    "            # if it's a beginning of duplicates sublist \n",
    "            # skip all duplicates\n",
    "            if head.next and head.val == head.next.val:\n",
    "                # move till the end of duplicates sublist\n",
    "                while head.next and head.val == head.next.val:\n",
    "                    head = head.next\n",
    "                # skip all duplicates\n",
    "                pred.next = head.next \n",
    "            # otherwise, move predecessor\n",
    "            else:\n",
    "                pred = pred.next \n",
    "                \n",
    "            # move forward\n",
    "            head = head.next\n",
    "            \n",
    "        return sentinel.next\n",
    "\n",
    "        \n",
    "        \n",
    "head = [1,2,3,3,4,4,5]\n",
    "answer = Solution()\n",
    "print(answer.deleteDuplicates1(head))      "
   ]
  },
  {
   "cell_type": "code",
   "execution_count": null,
   "metadata": {},
   "outputs": [],
   "source": []
  }
 ],
 "metadata": {
  "interpreter": {
   "hash": "2690c4ade938f830d2b677a28d44942311eb5bf365c90b058b9292674ef26d09"
  },
  "kernelspec": {
   "display_name": "Python 3.8.13 ('base')",
   "language": "python",
   "name": "python3"
  },
  "language_info": {
   "codemirror_mode": {
    "name": "ipython",
    "version": 3
   },
   "file_extension": ".py",
   "mimetype": "text/x-python",
   "name": "python",
   "nbconvert_exporter": "python",
   "pygments_lexer": "ipython3",
   "version": "3.8.13"
  },
  "orig_nbformat": 4
 },
 "nbformat": 4,
 "nbformat_minor": 2
}
