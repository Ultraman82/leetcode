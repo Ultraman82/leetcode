{
 "cells": [
  {
   "cell_type": "code",
   "execution_count": null,
   "metadata": {},
   "outputs": [],
   "source": [
    "from typing import ListNode\n",
    "class Solution:\n",
    "    def deleteDuplicates(self, head: ListNode) -> ListNode:\n",
    "        # sentinel\n",
    "        sentinel = ListNode(0, head)\n",
    "\n",
    "        # predecessor = the last node \n",
    "        # before the sublist of duplicates\n",
    "        pred = sentinel\n",
    "        \n",
    "        while head:\n",
    "            # if it's a beginning of duplicates sublist \n",
    "            # skip all duplicates\n",
    "            if head.next and head.val == head.next.val:\n",
    "                # move till the end of duplicates sublist\n",
    "                while head.next and head.val == head.next.val:\n",
    "                    head = head.next\n",
    "                # skip all duplicates\n",
    "                pred.next = head.next \n",
    "            # otherwise, move predecessor\n",
    "            else:\n",
    "                pred = pred.next \n",
    "                \n",
    "            # move forward\n",
    "            head = head.next\n",
    "            \n",
    "        return sentinel.next"
   ]
  }
 ],
 "metadata": {
  "language_info": {
   "name": "python"
  },
  "orig_nbformat": 4
 },
 "nbformat": 4,
 "nbformat_minor": 2
}
