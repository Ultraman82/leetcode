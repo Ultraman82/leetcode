{
 "cells": [
  {
   "cell_type": "code",
   "execution_count": 1,
   "metadata": {},
   "outputs": [],
   "source": [
    "from typing import List"
   ]
  },
  {
   "cell_type": "code",
   "execution_count": 5,
   "metadata": {},
   "outputs": [
    {
     "name": "stdout",
     "output_type": "stream",
     "text": [
      "[5, 7, 7, 8, 8, 10]\n"
     ]
    }
   ],
   "source": [
    "def searchRange(self, nums, target):\n",
    "    def binarySearchLeft(A, x):\n",
    "        left, right = 0, len(A) - 1\n",
    "        while left <= right:\n",
    "            mid = (left + right) / 2\n",
    "            if x > A[mid]: left = mid + 1\n",
    "            else: right = mid - 1\n",
    "        return left\n",
    "\n",
    "    def binarySearchRight(A, x):\n",
    "        left, right = 0, len(A) - 1\n",
    "        while left <= right:\n",
    "            mid = (left + right) / 2\n",
    "            if x >= A[mid]: left = mid + 1\n",
    "            else: right = mid - 1\n",
    "        return right\n",
    "        \n",
    "    left, right = binarySearchLeft(nums, target), binarySearchRight(nums, target)\n",
    "    return (left, right) if left <= right else [-1, -1]"
   ]
  },
  {
   "cell_type": "code",
   "execution_count": null,
   "metadata": {},
   "outputs": [],
   "source": [
    "def binarySearch(self, nums: List[int], target: int) -> int:\n",
    "    left, right = 0, len(nums) - 1\n",
    "    while left <= right:\n",
    "        pivot = left + (right - left) // 2\n",
    "        if nums[pivot] == target:\n",
    "            return pivot\n",
    "        if target < nums[pivot]:\n",
    "            right = pivot - 1\n",
    "        else:\n",
    "            left = pivot + 1\n",
    "    return -1"
   ]
  }
 ],
 "metadata": {
  "interpreter": {
   "hash": "2690c4ade938f830d2b677a28d44942311eb5bf365c90b058b9292674ef26d09"
  },
  "kernelspec": {
   "display_name": "Python 3.8.13 ('base')",
   "language": "python",
   "name": "python3"
  },
  "language_info": {
   "codemirror_mode": {
    "name": "ipython",
    "version": 3
   },
   "file_extension": ".py",
   "mimetype": "text/x-python",
   "name": "python",
   "nbconvert_exporter": "python",
   "pygments_lexer": "ipython3",
   "version": "3.8.13"
  },
  "orig_nbformat": 4
 },
 "nbformat": 4,
 "nbformat_minor": 2
}
