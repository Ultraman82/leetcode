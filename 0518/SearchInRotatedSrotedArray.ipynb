{
 "cells": [
  {
   "cell_type": "code",
   "execution_count": 2,
   "metadata": {},
   "outputs": [],
   "source": [
    "from typing import List"
   ]
  },
  {
   "cell_type": "code",
   "execution_count": 49,
   "metadata": {},
   "outputs": [
    {
     "name": "stdout",
     "output_type": "stream",
     "text": [
      "ordinary binary search\n",
      "4\n"
     ]
    }
   ],
   "source": [
    "class Solution:\n",
    "    def search(self, nums: List[int], target: int) -> int:\n",
    "        left, right = 0, len(nums) - 1\n",
    "        while left <= right:\n",
    "            pivot = left + (right - left) // 2\n",
    "            # print(nums[pivot])\n",
    "            if nums[pivot] == target:\n",
    "                return pivot                        \n",
    "            if nums[right] < nums[left]:\n",
    "                if (nums[left] < nums[pivot]) & (nums[pivot] < target):\n",
    "                    left = pivot + 1\n",
    "                    print(\"right half\")        \n",
    "                elif target < nums[left]:\n",
    "                    left = pivot + 1\n",
    "                else:\n",
    "                    right = pivot - 1\n",
    "                    print(\"left half\")                    \n",
    "            #in order, regular binary search\n",
    "            else:\n",
    "                print(\"ordinary binary search\")\n",
    "                if target < nums[pivot]:\n",
    "                    right = pivot - 1\n",
    "                else:\n",
    "                    left = pivot + 1\n",
    "        return -1\n",
    "nums = [4,5,6,7,0,1,2]\n",
    "target = 0\n",
    "\n",
    "answer = Solution()\n",
    "print(answer.search(nums, target))      \n"
   ]
  },
  {
   "cell_type": "code",
   "execution_count": null,
   "metadata": {},
   "outputs": [],
   "source": [
    "class Solution:\n",
    "    # @param {integer[]} numss\n",
    "    # @param {integer} target\n",
    "    # @return {integer}\n",
    "    def search(self, nums, target):\n",
    "        if not nums:\n",
    "            return -1\n",
    "\n",
    "        low, high = 0, len(nums) - 1\n",
    "\n",
    "        while low <= high:\n",
    "            mid = (low + high) / 2\n",
    "            if target == nums[mid]:\n",
    "                return mid\n",
    "\n",
    "            if nums[low] <= nums[mid]:\n",
    "                if nums[low] <= target <= nums[mid]:\n",
    "                    high = mid - 1\n",
    "                else:\n",
    "                    low = mid + 1\n",
    "            else:\n",
    "                if nums[mid] <= target <= nums[high]:\n",
    "                    low = mid + 1\n",
    "                else:\n",
    "                    high = mid - 1\n",
    "        return -1"
   ]
  }
 ],
 "metadata": {
  "interpreter": {
   "hash": "2690c4ade938f830d2b677a28d44942311eb5bf365c90b058b9292674ef26d09"
  },
  "kernelspec": {
   "display_name": "Python 3.8.13 ('base')",
   "language": "python",
   "name": "python3"
  },
  "language_info": {
   "codemirror_mode": {
    "name": "ipython",
    "version": 3
   },
   "file_extension": ".py",
   "mimetype": "text/x-python",
   "name": "python",
   "nbconvert_exporter": "python",
   "pygments_lexer": "ipython3",
   "version": "3.8.13"
  },
  "orig_nbformat": 4
 },
 "nbformat": 4,
 "nbformat_minor": 2
}
