{
 "cells": [
  {
   "cell_type": "code",
   "execution_count": 1,
   "metadata": {},
   "outputs": [
    {
     "name": "stdout",
     "output_type": "stream",
     "text": [
      "False\n"
     ]
    }
   ],
   "source": [
    "from typing import List\n",
    "class Solution:    \n",
    "    def isValidSudoku(self, board: List[List[str]]) -> bool:\n",
    "        return (self.is_row_valid(board) and\n",
    "                self.is_col_valid(board) and\n",
    "                self.is_square_valid(board))\n",
    "\n",
    "    def is_row_valid(self, board):\n",
    "        for row in board:\n",
    "            if not self.is_unit_valid(row):\n",
    "                return False\n",
    "        return True\n",
    "\n",
    "    def is_col_valid(self, board):\n",
    "        for col in zip(*board):\n",
    "            if not self.is_unit_valid(col):\n",
    "                return False\n",
    "        return True\n",
    "        \n",
    "    def is_square_valid(self, board):\n",
    "        for i in (0, 3, 6):\n",
    "            for j in (0, 3, 6):\n",
    "                square = [board[x][y] for x in range(i, i + 3) for y in range(j, j + 3)]\n",
    "                if not self.is_unit_valid(square):\n",
    "                    return False\n",
    "        return True\n",
    "        \n",
    "    def is_unit_valid(self, unit):\n",
    "        unit = [i for i in unit if i != '.']\n",
    "        return len(set(unit)) == len(unit)            \n",
    "\n",
    "board = [[\"5\",\"3\",\".\",\".\",\"7\",\".\",\".\",\".\",\".\"]\n",
    ",[\"6\",\".\",\".\",\"1\",\"9\",\"5\",\".\",\".\",\".\"]\n",
    ",[\".\",\"9\",\"8\",\".\",\".\",\".\",\".\",\"6\",\".\"]\n",
    ",[\"8\",\".\",\".\",\".\",\"6\",\".\",\".\",\".\",\"3\"]\n",
    ",[\"4\",\".\",\".\",\"8\",\".\",\"3\",\".\",\".\",\"1\"]\n",
    ",[\"7\",\".\",\".\",\".\",\"2\",\".\",\".\",\".\",\"6\"]\n",
    ",[\".\",\"6\",\".\",\".\",\".\",\".\",\"2\",\"8\",\".\"]\n",
    ",[\".\",\".\",\".\",\"4\",\"1\",\"9\",\".\",\".\",\"5\"]\n",
    ",[\".\",\".\",\".\",\".\",\"8\",\".\",\".\",\"7\",\"9\"]]\n",
    "ans = Solution()\n",
    "print(ans.isValidSudoku(board))"
   ]
  },
  {
   "cell_type": "code",
   "execution_count": null,
   "metadata": {},
   "outputs": [],
   "source": []
  }
 ],
 "metadata": {
  "interpreter": {
   "hash": "2690c4ade938f830d2b677a28d44942311eb5bf365c90b058b9292674ef26d09"
  },
  "kernelspec": {
   "display_name": "Python 3.8.13 ('base')",
   "language": "python",
   "name": "python3"
  },
  "language_info": {
   "codemirror_mode": {
    "name": "ipython",
    "version": 3
   },
   "file_extension": ".py",
   "mimetype": "text/x-python",
   "name": "python",
   "nbconvert_exporter": "python",
   "pygments_lexer": "ipython3",
   "version": "3.8.13"
  },
  "orig_nbformat": 4
 },
 "nbformat": 4,
 "nbformat_minor": 2
}
