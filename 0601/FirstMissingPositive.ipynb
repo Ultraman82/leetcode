{
 "cells": [
  {
   "cell_type": "code",
   "execution_count": 35,
   "metadata": {},
   "outputs": [
    {
     "name": "stdout",
     "output_type": "stream",
     "text": [
      "[36, 0, 0, 0, 0, 0]\n",
      "1\n"
     ]
    }
   ],
   "source": [
    "from typing import List\n",
    "class Solution:\n",
    "    def firstMissingPositive(self, nums):\n",
    "        \"\"\"\n",
    "        :type nums: List[int]\n",
    "        :rtype: int\n",
    "        Basic idea:\n",
    "        1. for any array whose length is l, the first missing positive must be in range [1,...,l+1], \n",
    "            so we only have to care about those elements in this range and remove the rest.\n",
    "        2. we can use the array index as the hash to restore the frequency of each number within \n",
    "            the range [1,...,l+1] \n",
    "        \"\"\"        \n",
    "        nums.append(0)\n",
    "        n = len(nums)\n",
    "        for i in range(len(nums)): #delete those useless elements\n",
    "            if nums[i]<0 or nums[i]>=n:\n",
    "                nums[i]=0\n",
    "        for i in range(len(nums)): #use the index as the hash to record the frequency of each number\n",
    "            nums[nums[i]%n]+=n        \n",
    "        for i in range(1,len(nums)):\n",
    "            if nums[i]//n==0:\n",
    "                return i\n",
    "        return n\n",
    "\n",
    "ans = Solution()\n",
    "print(ans.firstMissingPositive([7,8,9,11,12]))"
   ]
  },
  {
   "cell_type": "code",
   "execution_count": 32,
   "metadata": {},
   "outputs": [
    {
     "data": {
      "text/plain": [
       "0.6666666666666666"
      ]
     },
     "execution_count": 32,
     "metadata": {},
     "output_type": "execute_result"
    }
   ],
   "source": [
    "2 / 3"
   ]
  },
  {
   "cell_type": "code",
   "execution_count": null,
   "metadata": {},
   "outputs": [],
   "source": []
  }
 ],
 "metadata": {
  "interpreter": {
   "hash": "2690c4ade938f830d2b677a28d44942311eb5bf365c90b058b9292674ef26d09"
  },
  "kernelspec": {
   "display_name": "Python 3.8.13 ('base')",
   "language": "python",
   "name": "python3"
  },
  "language_info": {
   "codemirror_mode": {
    "name": "ipython",
    "version": 3
   },
   "file_extension": ".py",
   "mimetype": "text/x-python",
   "name": "python",
   "nbconvert_exporter": "python",
   "pygments_lexer": "ipython3",
   "version": "3.8.13"
  },
  "orig_nbformat": 4
 },
 "nbformat": 4,
 "nbformat_minor": 2
}
