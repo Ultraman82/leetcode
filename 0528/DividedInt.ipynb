{
 "cells": [
  {
   "cell_type": "code",
   "execution_count": 3,
   "metadata": {},
   "outputs": [
    {
     "name": "stdout",
     "output_type": "stream",
     "text": [
      "-4\n"
     ]
    }
   ],
   "source": [
    "import math\n",
    "print(math.floor(-3.3))"
   ]
  },
  {
   "cell_type": "code",
   "execution_count": 23,
   "metadata": {},
   "outputs": [
    {
     "name": "stdout",
     "output_type": "stream",
     "text": [
      "-2\n",
      "-3\n"
     ]
    }
   ],
   "source": [
    "class Solution:\n",
    "    def divide(self, A, B):\n",
    "        if (A == -2147483648 and B == -1): return 2147483647\n",
    "        a, b, res = abs(A), abs(B), 0\n",
    "        for x in range(32)[::-1]:\n",
    "            if (a >> x) - b >= 0:\n",
    "                res += 1 << x\n",
    "                a -= b << x\n",
    "        return res if (A > 0) == (B > 0) else -res\n",
    "ans = Solution()\n",
    "print(ans.divide(7, -3))"
   ]
  },
  {
   "cell_type": "code",
   "execution_count": null,
   "metadata": {},
   "outputs": [],
   "source": []
  }
 ],
 "metadata": {
  "interpreter": {
   "hash": "2690c4ade938f830d2b677a28d44942311eb5bf365c90b058b9292674ef26d09"
  },
  "kernelspec": {
   "display_name": "Python 3.8.13 ('base')",
   "language": "python",
   "name": "python3"
  },
  "language_info": {
   "codemirror_mode": {
    "name": "ipython",
    "version": 3
   },
   "file_extension": ".py",
   "mimetype": "text/x-python",
   "name": "python",
   "nbconvert_exporter": "python",
   "pygments_lexer": "ipython3",
   "version": "3.8.13"
  },
  "orig_nbformat": 4
 },
 "nbformat": 4,
 "nbformat_minor": 2
}
