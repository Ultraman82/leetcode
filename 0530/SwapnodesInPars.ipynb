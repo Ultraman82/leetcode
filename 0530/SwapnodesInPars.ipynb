{
 "cells": [
  {
   "cell_type": "code",
   "execution_count": 25,
   "metadata": {},
   "outputs": [
    {
     "name": "stdout",
     "output_type": "stream",
     "text": [
      "<__main__.ListNode object at 0x7f4f551fec70>\n"
     ]
    }
   ],
   "source": [
    "from typing import Optional, List\n",
    "class ListNode:\n",
    "    def __init__(self, val=0, next=None):\n",
    "        self.val = val\n",
    "        self.next = next\n",
    "\n",
    "class Solution:\n",
    "    def swapPairs(self, head: Optional[ListNode]) -> Optional[ListNode]:\n",
    "        if not head: return head\n",
    "\n",
    "        prev, cur, ans = None, head, head.next\n",
    "        while cur and cur.next:\n",
    "            \n",
    "            adj = cur.next\n",
    "            if prev: prev.next = adj\n",
    "\n",
    "            cur.next, adj.next = adj.next, cur\n",
    "            prev, cur = cur, cur.next\n",
    "\n",
    "        return ans or head\n",
    "    \n",
    "list1 = ListNode(1, ListNode(2, ListNode(3, ListNode(4))))\n",
    "ans = Solution()\n",
    "print(ans.swapPairs(list1))\n",
    "        "
   ]
  },
  {
   "cell_type": "code",
   "execution_count": null,
   "metadata": {},
   "outputs": [],
   "source": []
  }
 ],
 "metadata": {
  "interpreter": {
   "hash": "2690c4ade938f830d2b677a28d44942311eb5bf365c90b058b9292674ef26d09"
  },
  "kernelspec": {
   "display_name": "Python 3.8.13 ('base')",
   "language": "python",
   "name": "python3"
  },
  "language_info": {
   "codemirror_mode": {
    "name": "ipython",
    "version": 3
   },
   "file_extension": ".py",
   "mimetype": "text/x-python",
   "name": "python",
   "nbconvert_exporter": "python",
   "pygments_lexer": "ipython3",
   "version": "3.8.13"
  },
  "orig_nbformat": 4
 },
 "nbformat": 4,
 "nbformat_minor": 2
}
