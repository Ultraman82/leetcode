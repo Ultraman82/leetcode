{
 "cells": [
  {
   "cell_type": "code",
   "execution_count": 3,
   "metadata": {},
   "outputs": [
    {
     "name": "stdout",
     "output_type": "stream",
     "text": [
      "[3, 4, 5, 1, 2]\n"
     ]
    }
   ],
   "source": [
    "from typing import List\n",
    "\n",
    "class Solution:\n",
    "    def threeSum(self, nums):\n",
    "        nums.sort()\n",
    "        result = []\n",
    "        for left in range(len(nums) - 2): # renamed this to left because this will always be the leftmost pointer in the triplet\n",
    "            if left > 0 and nums[left] == nums[left - 1]: # this step makes sure that we do not have any duplicates in our result output\n",
    "                continue \n",
    "            mid = left + 1 # renamed this to mid because this is the pointer that is between the left and right pointers\n",
    "            right = len(nums) - 1\n",
    "            while mid < right:\n",
    "                curr_sum = nums[left] + nums[mid] + nums[right]\n",
    "                if curr_sum < 0:\n",
    "                    mid += 1 \n",
    "                elif curr_sum > 0:\n",
    "                    right -= 1\n",
    "                else:\n",
    "                    result.append([nums[left], nums[mid], nums[right]])\n",
    "                    while mid < right and nums[mid] == nums[mid + 1]: # Another conditional for not calculating duplicates\n",
    "                        mid += 1\n",
    "                    while mid < right and nums[right] == nums[right - 1]: # Avoiding duplicates check\n",
    "                        right -= 1\n",
    "                    mid += 1\n",
    "                    right -= 1\n",
    "        return result\n",
    "\n",
    "nums = [3,4,5,1,2]\n",
    "answer = Solution()\n",
    "print(answer.threeSum(nums))     "
   ]
  }
 ],
 "metadata": {
  "interpreter": {
   "hash": "2690c4ade938f830d2b677a28d44942311eb5bf365c90b058b9292674ef26d09"
  },
  "kernelspec": {
   "display_name": "Python 3.8.13 ('base')",
   "language": "python",
   "name": "python3"
  },
  "language_info": {
   "codemirror_mode": {
    "name": "ipython",
    "version": 3
   },
   "file_extension": ".py",
   "mimetype": "text/x-python",
   "name": "python",
   "nbconvert_exporter": "python",
   "pygments_lexer": "ipython3",
   "version": "3.8.13"
  },
  "orig_nbformat": 4
 },
 "nbformat": 4,
 "nbformat_minor": 2
}
