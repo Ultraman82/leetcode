{
 "cells": [
  {
   "cell_type": "code",
   "execution_count": 70,
   "metadata": {},
   "outputs": [
    {
     "name": "stdout",
     "output_type": "stream",
     "text": [
      "n-1\n",
      "repeat plus\n",
      "n-1\n",
      "else\n",
      "n-1\n",
      "else\n",
      "else\n",
      "repeat plus\n",
      "n-1\n",
      "repeat plus\n",
      "repeat plus\n",
      "else\n",
      "repeat plus\n",
      "else\n",
      "n-1\n",
      "312211\n"
     ]
    }
   ],
   "source": [
    "class Solution:\n",
    "    def countAndSay(self, n: int) -> str:\n",
    "        input = '1'\n",
    "        index = 1        \n",
    "        while index < n:                                    \n",
    "            temp_arr =[]\n",
    "            repeat_counter = 1\n",
    "            cur_char = None\n",
    "            prev_char = None            \n",
    "            for i in range(0, len(input)):                                       \n",
    "                cur_char = input[i]\n",
    "                if cur_char == prev_char:\n",
    "                    repeat_counter += 1                                \n",
    "                    print(\"repeat plus\")\n",
    "                elif cur_char and prev_char:\n",
    "                    print(\"else\")\n",
    "                    temp_arr.append(str(repeat_counter))\n",
    "                    temp_arr.append(prev_char)\n",
    "                    repeat_counter = 1\n",
    "                if i == len(input) - 1:\n",
    "                    print(\"n-1\")\n",
    "                    temp_arr.append(str(repeat_counter))\n",
    "                    temp_arr.append(cur_char)\n",
    "                prev_char = cur_char\n",
    "            input = ''.join(temp_arr)                                \n",
    "            n = n-1        \n",
    "        return input\n",
    "ans = Solution()\n",
    "#5 = 111221\n",
    "print(ans.countAndSay(6))"
   ]
  },
  {
   "cell_type": "code",
   "execution_count": 75,
   "metadata": {},
   "outputs": [
    {
     "name": "stdout",
     "output_type": "stream",
     "text": [
      "312211\n"
     ]
    }
   ],
   "source": [
    "import re\n",
    "def countAndSay(n):\n",
    "    s = '1'\n",
    "    for _ in range(n - 1):\n",
    "        s = re.sub(r'(.)\\1*', lambda m: str(len(m.group(0))) + m.group(1), s)\n",
    "    return s\n",
    "print(countAndSay(6))"
   ]
  },
  {
   "cell_type": "code",
   "execution_count": 80,
   "metadata": {},
   "outputs": [],
   "source": [
    "def countAndSay(n):\n",
    "    s = '1'\n",
    "    for _ in range(n - 1):\n",
    "        s = ''.join(str(len(group)) + digit\n",
    "                    for group, digit in re.findall(r'((.)\\2*)', s))\n",
    "    return s"
   ]
  },
  {
   "cell_type": "code",
   "execution_count": 82,
   "metadata": {},
   "outputs": [],
   "source": [
    "import itertools\n",
    "def countAndSay(self, n):\n",
    "    s = '1'\n",
    "    for _ in range(n - 1):\n",
    "        s = ''.join(str(len(list(group))) + digit\n",
    "                    for digit, group in itertools.groupby(s))\n",
    "    return s"
   ]
  },
  {
   "cell_type": "code",
   "execution_count": 90,
   "metadata": {},
   "outputs": [
    {
     "name": "stdout",
     "output_type": "stream",
     "text": [
      "1 ['1', '1']\n",
      "2 ['2', '2', '2']\n",
      "1 ['1', '1']\n",
      "2 ['2']\n",
      "1 ['1']\n"
     ]
    }
   ],
   "source": [
    "for digit, group in itertools.groupby(\"112221121\"):\n",
    "    print(digit, list(group))"
   ]
  },
  {
   "cell_type": "code",
   "execution_count": 92,
   "metadata": {},
   "outputs": [
    {
     "name": "stdout",
     "output_type": "stream",
     "text": [
      "11 1\n",
      "222 2\n",
      "11 1\n",
      "2 2\n",
      "1 1\n"
     ]
    }
   ],
   "source": [
    "for digit, group in re.findall(r'((.)\\2*)', \"112221121\"):\n",
    "    print(digit, group)"
   ]
  },
  {
   "cell_type": "code",
   "execution_count": null,
   "metadata": {},
   "outputs": [],
   "source": []
  }
 ],
 "metadata": {
  "interpreter": {
   "hash": "2690c4ade938f830d2b677a28d44942311eb5bf365c90b058b9292674ef26d09"
  },
  "kernelspec": {
   "display_name": "Python 3.8.13 ('base')",
   "language": "python",
   "name": "python3"
  },
  "language_info": {
   "codemirror_mode": {
    "name": "ipython",
    "version": 3
   },
   "file_extension": ".py",
   "mimetype": "text/x-python",
   "name": "python",
   "nbconvert_exporter": "python",
   "pygments_lexer": "ipython3",
   "version": "3.8.13"
  },
  "orig_nbformat": 4
 },
 "nbformat": 4,
 "nbformat_minor": 2
}
