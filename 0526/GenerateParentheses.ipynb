{
 "cells": [
  {
   "cell_type": "code",
   "execution_count": 4,
   "metadata": {},
   "outputs": [
    {
     "name": "stdout",
     "output_type": "stream",
     "text": [
      "['((()))', '(()())', '(())()', '()(())', '()()()']\n"
     ]
    }
   ],
   "source": [
    "class Solution(object):\n",
    "    def generateParenthesis(self, n):\n",
    "        def generate(A = []):\n",
    "            if len(A) == 2*n:\n",
    "                if valid(A):\n",
    "                    ans.append(\"\".join(A))\n",
    "            else:\n",
    "                A.append('(')\n",
    "                generate(A)\n",
    "                A.pop()\n",
    "                A.append(')')\n",
    "                generate(A)\n",
    "                A.pop()\n",
    "\n",
    "        def valid(A):\n",
    "            bal = 0\n",
    "            for c in A:\n",
    "                if c == '(': bal += 1\n",
    "                else: bal -= 1\n",
    "                if bal < 0: return False\n",
    "            return bal == 0\n",
    "\n",
    "        ans = []\n",
    "        generate()\n",
    "        return ans\n",
    "\n",
    "ans = Solution()\n",
    "print(ans.generateParenthesis(3))\n",
    "        "
   ]
  },
  {
   "cell_type": "code",
   "execution_count": 7,
   "metadata": {},
   "outputs": [
    {
     "name": "stdout",
     "output_type": "stream",
     "text": [
      "['((()))', '(()())', '(())()', '()(())', '()()()']\n"
     ]
    }
   ],
   "source": [
    "from typing import List\n",
    "class Solution:\n",
    "    def generateParenthesis(self, n: int) -> List[str]:\n",
    "        ans = []\n",
    "        def backtrack(S = [], left = 0, right = 0):\n",
    "            if len(S) == 2 * n:\n",
    "                ans.append(\"\".join(S))\n",
    "                return\n",
    "            if left < n:\n",
    "                S.append(\"(\")\n",
    "                backtrack(S, left+1, right)\n",
    "                S.pop()\n",
    "            if right < left:\n",
    "                S.append(\")\")\n",
    "                backtrack(S, left, right+1)\n",
    "                S.pop()\n",
    "        backtrack()\n",
    "        return ans\n",
    "        \n",
    "ans = Solution()\n",
    "print(ans.generateParenthesis(3))"
   ]
  },
  {
   "cell_type": "code",
   "execution_count": 9,
   "metadata": {},
   "outputs": [
    {
     "name": "stdout",
     "output_type": "stream",
     "text": [
      "['()()()', '()(())', '(())()', '(()())', '((()))']\n"
     ]
    }
   ],
   "source": [
    "class Solution(object):\n",
    "    def generateParenthesis(self, N):\n",
    "        if N == 0: return ['']\n",
    "        ans = []\n",
    "        for c in range(N):\n",
    "            for left in self.generateParenthesis(c):\n",
    "                for right in self.generateParenthesis(N-1-c):\n",
    "                    ans.append('({}){}'.format(left, right))\n",
    "        return ans\n",
    "ans = Solution()\n",
    "print(ans.generateParenthesis(3))"
   ]
  },
  {
   "cell_type": "code",
   "execution_count": null,
   "metadata": {},
   "outputs": [],
   "source": []
  }
 ],
 "metadata": {
  "interpreter": {
   "hash": "2690c4ade938f830d2b677a28d44942311eb5bf365c90b058b9292674ef26d09"
  },
  "kernelspec": {
   "display_name": "Python 3.8.13 ('base')",
   "language": "python",
   "name": "python3"
  },
  "language_info": {
   "codemirror_mode": {
    "name": "ipython",
    "version": 3
   },
   "file_extension": ".py",
   "mimetype": "text/x-python",
   "name": "python",
   "nbconvert_exporter": "python",
   "pygments_lexer": "ipython3",
   "version": "3.8.13"
  },
  "orig_nbformat": 4
 },
 "nbformat": 4,
 "nbformat_minor": 2
}
