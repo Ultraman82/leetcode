{
 "cells": [
  {
   "cell_type": "code",
   "execution_count": 9,
   "metadata": {},
   "outputs": [],
   "source": [
    "from typing import Optional\n",
    "class ListNode:\n",
    "    def __init__(self, val=0, next=None):\n",
    "        self.val = val\n",
    "        self.next = next\n",
    "\n",
    "list1 = [1,2,4]\n",
    "list2 = [1,3,4]        \n",
    "\n",
    "\n",
    "\n",
    "class Solution:\n",
    "    def mergeTwoLists(self, list1: Optional[ListNode], list2: Optional[ListNode]) -> Optional[ListNode]:        \n",
    "        pred = sentinel = ListNode()\n",
    "        while list1 and list2:\n",
    "            if list1.val > list2.val:\n",
    "                pred.next = list2                \n",
    "                list2 = list2.next\n",
    "                pred = pred.next\n",
    "            else:\n",
    "                pred.next = list1\n",
    "                list1 = list1.next\n",
    "                pred = pred.next\n",
    "        if list1 or list2:\n",
    "            pred.next = list1 if list1 else list2\n",
    "        return sentinel.next\n",
    "                \n",
    "class Solution:\n",
    "    def mergeTwoLists(self, list1: Optional[ListNode], list2: Optional[ListNode]) -> Optional[ListNode]:\n",
    "        cur = dummy = ListNode()\n",
    "        while list1 and list2:               \n",
    "            if list1.val < list2.val:\n",
    "                cur.next = list1\n",
    "                list1, cur = list1.next, list1\n",
    "            else:\n",
    "                cur.next = list2\n",
    "                list2, cur = list2.next, list2\n",
    "                \n",
    "        if list1 or list2:\n",
    "            cur.next = list1 if list1 else list2\n",
    "            \n",
    "        return dummy.next\n"
   ]
  },
  {
   "cell_type": "code",
   "execution_count": null,
   "metadata": {},
   "outputs": [],
   "source": [
    "class Solution:\n",
    "    def mergeTwoLists(self, list1: Optional[ListNode], list2: Optional[ListNode]) -> Optional[ListNode]:\n",
    "        ans = []\n",
    "        i = 0\n",
    "        j = 0\n",
    "        while i in range(len(list1)) and j in range(len(list2)):\n",
    "            if list1[i] >= list2[j]:\n",
    "                ans.append(list2[j])\n",
    "                j += 1\n",
    "            else:\n",
    "                ans.append(list1[i])\n",
    "                i += 1        \n",
    "        while i in range(len(list1)):\n",
    "            ans.append(list1[i])\n",
    "            i += 1 \n",
    "        while j in range(len(list2)):\n",
    "            ans.append(list2[j])\n",
    "            j += 1         \n",
    "        return ans"
   ]
  }
 ],
 "metadata": {
  "interpreter": {
   "hash": "2690c4ade938f830d2b677a28d44942311eb5bf365c90b058b9292674ef26d09"
  },
  "kernelspec": {
   "display_name": "Python 3.8.13 ('base')",
   "language": "python",
   "name": "python3"
  },
  "language_info": {
   "codemirror_mode": {
    "name": "ipython",
    "version": 3
   },
   "file_extension": ".py",
   "mimetype": "text/x-python",
   "name": "python",
   "nbconvert_exporter": "python",
   "pygments_lexer": "ipython3",
   "version": "3.8.13"
  },
  "orig_nbformat": 4
 },
 "nbformat": 4,
 "nbformat_minor": 2
}
